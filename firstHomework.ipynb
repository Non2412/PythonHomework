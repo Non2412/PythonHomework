{
 "cells": [
  {
   "cell_type": "code",
   "execution_count": 1,
   "id": "558f2d8d-1095-47b6-bb28-f17bf88fa13a",
   "metadata": {
    "tags": []
   },
   "outputs": [
    {
     "name": "stdout",
     "output_type": "stream",
     "text": [
      "สิทธิรัช พรหมคุณ 6612732135\n"
     ]
    }
   ],
   "source": [
    "print(\"สิทธิรัช พรหมคุณ 6612732135\")"
   ]
  },
  {
   "cell_type": "code",
   "execution_count": null,
   "id": "6d5108cc-eb24-4d02-a98e-3e102d3afdc5",
   "metadata": {},
   "outputs": [],
   "source": []
  }
 ],
 "metadata": {
  "kernelspec": {
   "display_name": "Python 3 (ipykernel)",
   "language": "python",
   "name": "python3"
  },
  "language_info": {
   "codemirror_mode": {
    "name": "ipython",
    "version": 3
   },
   "file_extension": ".py",
   "mimetype": "text/x-python",
   "name": "python",
   "nbconvert_exporter": "python",
   "pygments_lexer": "ipython3",
   "version": "3.11.5"
  }
 },
 "nbformat": 4,
 "nbformat_minor": 5
}
